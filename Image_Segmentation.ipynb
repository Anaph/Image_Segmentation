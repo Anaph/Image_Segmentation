{
 "cells": [
  {
   "cell_type": "code",
   "execution_count": null,
   "metadata": {},
   "outputs": [],
   "source": [
    "%reload_ext autoreload\n",
    "%autoreload 2"
   ]
  },
  {
   "cell_type": "code",
   "execution_count": null,
   "metadata": {},
   "outputs": [],
   "source": [
    "import tensorflow as tf\n",
    "from tensorflow.keras import mixed_precision\n",
    "import utilities.Model_utilities as my_model_util\n",
    "\n",
    "policy = mixed_precision.Policy('mixed_float16') \n",
    "\n",
    "gpus = tf.config.experimental.list_physical_devices('GPU')\n",
    "if gpus:\n",
    "  # Restrict TensorFlow to only allocate 4GB of memory on the first GPU\n",
    "  try:\n",
    "    tf.config.experimental.set_virtual_device_configuration(\n",
    "        gpus[0],\n",
    "        [tf.config.experimental.VirtualDeviceConfiguration(memory_limit=4096)])\n",
    "    logical_gpus = tf.config.experimental.list_logical_devices('GPU')\n",
    "    print(len(gpus), \"Physical GPUs,\", len(logical_gpus), \"Logical GPUs\")\n",
    "  except RuntimeError as e:\n",
    "    # Virtual devices must be set before GPUs have been initialized\n",
    "    print(e)\n"
   ]
  },
  {
   "cell_type": "code",
   "execution_count": null,
   "metadata": {},
   "outputs": [],
   "source": [
    "image_height = 544\n",
    "image_width = 736\n",
    "n_classes = 7"
   ]
  },
  {
   "cell_type": "code",
   "execution_count": null,
   "metadata": {},
   "outputs": [],
   "source": [
    "model = my_model_util.unet_custom(n_classes, image_height, image_width, model_depth=3, dropout=0.1)\n",
    "# model.summary()"
   ]
  },
  {
   "cell_type": "code",
   "execution_count": null,
   "metadata": {},
   "outputs": [],
   "source": [
    "gen = my_model_util.train_gen(\"tmp/test/\",\n",
    "                            \"tmp/label/\", batch_size = 2, \\\n",
    "                             n_classes = n_classes, height = image_height, width = image_width)\n",
    "model.compile(optimizer='adam',\n",
    "              loss='mse',\n",
    "              metrics=[my_model_util.iou_coef])\n",
    "model.fit(gen,steps_per_epoch=300,epochs=15)\n",
    "model.save('models/')"
   ]
  },
  {
   "cell_type": "code",
   "execution_count": null,
   "metadata": {},
   "outputs": [],
   "source": [
    "pr = my_model_util.predict_model(model, \n",
    "    '/media/anaph/My Passport/dataset/images/9image4801.png',\n",
    "    n_classes, image_height, image_width)"
   ]
  },
  {
   "cell_type": "code",
   "execution_count": null,
   "metadata": {},
   "outputs": [],
   "source": [
    "import matplotlib.pyplot as plt\n",
    "plt.imshow(pr)"
   ]
  },
  {
   "cell_type": "code",
   "execution_count": null,
   "metadata": {},
   "outputs": [],
   "source": [
    "color = my_model_util.gen_color_for_labels(['Ground', 'Biker', 'Pedestrian', 'Skateboarder', 'Cart', 'Car', 'Bus'])"
   ]
  },
  {
   "cell_type": "code",
   "execution_count": null,
   "metadata": {},
   "outputs": [],
   "source": [
    "import cv2\n",
    "pr = my_model_util.predict_model(model, '/media/anaph/My Passport/dataset/images/0image8901.png', n_classes, image_height, image_width)\n",
    "image = cv2.imread('/media/anaph/My Passport/dataset/images/0image8901.png',)\n",
    "o = my_model_util.visualize_segmentation(pr,image,color)\n",
    "plt.figure(figsize=(9, 9))\n",
    "plt.imshow(o.astype('uint8'))"
   ]
  },
  {
   "cell_type": "code",
   "execution_count": null,
   "metadata": {},
   "outputs": [],
   "source": []
  }
 ],
 "metadata": {
  "interpreter": {
   "hash": "97097509d2a236426c1e3c8bd853245d1fef2268a374f129ffe1f050cdd8ea12"
  },
  "kernelspec": {
   "display_name": "Python 3.6.9 64-bit ('ImageSegmentation': virtualenv)",
   "name": "python3"
  },
  "language_info": {
   "codemirror_mode": {
    "name": "ipython",
    "version": 3
   },
   "file_extension": ".py",
   "mimetype": "text/x-python",
   "name": "python",
   "nbconvert_exporter": "python",
   "pygments_lexer": "ipython3",
   "version": "3.6.9"
  },
  "metadata": {
   "interpreter": {
    "hash": "97097509d2a236426c1e3c8bd853245d1fef2268a374f129ffe1f050cdd8ea12"
   }
  },
  "orig_nbformat": 2
 },
 "nbformat": 4,
 "nbformat_minor": 2
}