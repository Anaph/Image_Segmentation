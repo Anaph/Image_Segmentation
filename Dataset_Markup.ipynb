{
 "cells": [
  {
   "cell_type": "code",
   "execution_count": null,
   "metadata": {},
   "outputs": [],
   "source": [
    "import subprocess\n",
    "import os\n",
    "import time"
   ]
  },
  {
   "cell_type": "code",
   "execution_count": null,
   "metadata": {},
   "outputs": [],
   "source": [
    "\n",
    "num_name = 0         # variable to create unique image names\n",
    "num_max_process = 6  # maximum number of threads\n",
    "list_proceses = []   # list of current processes\n",
    "annotation_name = 'annotations.txt'\n",
    "video_name = 'video.mov'\n",
    "path_to_videos = \"/media/anaph/My Passport/dataset/videos/\"\n",
    "path_to_images = \"/media/anaph/My Passport/dataset/images/\"\n",
    "path_to_labels = \"/media/anaph/My Passport/dataset/labels/\"\n",
    "\n",
    "\n",
    "# Loop through all folders and subfolders in a directory\n",
    "for root, dirs, files in os.walk(path_to_videos, topdown = False):\n",
    "   annotation_path = None\n",
    "   video_path = None\n",
    "   for name in files:\n",
    "      if name == annotation_name:\n",
    "         annotation_path = os.path.join(root, name)\n",
    "      if name == video_name:\n",
    "         video_path = os.path.join(root, name)\n",
    "   if annotation_path is not None and video_path is not None:\n",
    "      while(len(list_proceses) >= num_max_process):\n",
    "         for i in range(len(list_proceses)):\n",
    "            if list_proceses[i].poll() is not None:\n",
    "               list_proceses.pop(i)\n",
    "               break\n",
    "         time.sleep(1)\n",
    "      list_proceses.append(\n",
    "            subprocess.Popen([\"python3\", \"utilities/CV_image_markup.py\", \n",
    "            \"-i\", video_path, \n",
    "            \"-a\", annotation_path, \n",
    "            \"-p\", path_to_images + str(num_name) + \"image\", \n",
    "            \"-m\", path_to_labels + str(num_name) + \"image\"]))\n",
    "      print(\"Work on:\" + video_path)\n",
    "      num_name += 1\n"
   ]
  },
  {
   "cell_type": "code",
   "execution_count": null,
   "metadata": {},
   "outputs": [],
   "source": []
  }
 ],
 "metadata": {
  "interpreter": {
   "hash": "97097509d2a236426c1e3c8bd853245d1fef2268a374f129ffe1f050cdd8ea12"
  },
  "kernelspec": {
   "display_name": "Python 3.6.9 64-bit ('ImageSegmentation': virtualenv)",
   "name": "python3"
  },
  "language_info": {
   "codemirror_mode": {
    "name": "ipython",
    "version": 3
   },
   "file_extension": ".py",
   "mimetype": "text/x-python",
   "name": "python",
   "nbconvert_exporter": "python",
   "pygments_lexer": "ipython3",
   "version": "3.6.9"
  },
  "metadata": {
   "interpreter": {
    "hash": "97097509d2a236426c1e3c8bd853245d1fef2268a374f129ffe1f050cdd8ea12"
   }
  },
  "orig_nbformat": 2
 },
 "nbformat": 4,
 "nbformat_minor": 2
}